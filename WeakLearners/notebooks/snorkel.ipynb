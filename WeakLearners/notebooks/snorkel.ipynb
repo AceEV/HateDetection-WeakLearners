{
 "cells": [
  {
   "cell_type": "code",
   "execution_count": 1,
   "metadata": {},
   "outputs": [],
   "source": [
    "from textblob import TextBlob\n",
    "import pandas as pd\n",
    "import numpy as np\n",
    "from snorkel.labeling import labeling_function"
   ]
  },
  {
   "cell_type": "code",
   "execution_count": 2,
   "metadata": {},
   "outputs": [],
   "source": [
    "_data_path = \"../data/training_data.csv\"\n",
    "df = pd.read_csv(_data_path, usecols=['id', 'text', 'user', 'user_verified',\n",
    "                                      'user_followers_count', 'user_friends_count', 'retweet_count', 'fav_count', 'hashtags', 'target'])[:]"
   ]
  },
  {
   "cell_type": "code",
   "execution_count": 3,
   "metadata": {},
   "outputs": [],
   "source": [
    "df['target'] = df.target.apply(lambda x: x.split()[1])"
   ]
  },
  {
   "cell_type": "code",
   "execution_count": 4,
   "metadata": {},
   "outputs": [
    {
     "name": "stdout",
     "output_type": "stream",
     "text": [
      "<class 'pandas.core.frame.DataFrame'>\n",
      "RangeIndex: 12756 entries, 0 to 12755\n",
      "Data columns (total 10 columns):\n",
      " #   Column                Non-Null Count  Dtype \n",
      "---  ------                --------------  ----- \n",
      " 0   id                    12756 non-null  int64 \n",
      " 1   text                  12756 non-null  object\n",
      " 2   user                  12756 non-null  object\n",
      " 3   user_verified         12756 non-null  bool  \n",
      " 4   user_followers_count  12756 non-null  int64 \n",
      " 5   user_friends_count    12756 non-null  int64 \n",
      " 6   retweet_count         12756 non-null  int64 \n",
      " 7   fav_count             12756 non-null  int64 \n",
      " 8   hashtags              12756 non-null  object\n",
      " 9   target                12756 non-null  object\n",
      "dtypes: bool(1), int64(5), object(4)\n",
      "memory usage: 909.5+ KB\n"
     ]
    }
   ],
   "source": [
    "df.info()"
   ]
  },
  {
   "cell_type": "code",
   "execution_count": 5,
   "metadata": {},
   "outputs": [
    {
     "data": {
      "text/html": [
       "<div>\n",
       "<style scoped>\n",
       "    .dataframe tbody tr th:only-of-type {\n",
       "        vertical-align: middle;\n",
       "    }\n",
       "\n",
       "    .dataframe tbody tr th {\n",
       "        vertical-align: top;\n",
       "    }\n",
       "\n",
       "    .dataframe thead th {\n",
       "        text-align: right;\n",
       "    }\n",
       "</style>\n",
       "<table border=\"1\" class=\"dataframe\">\n",
       "  <thead>\n",
       "    <tr style=\"text-align: right;\">\n",
       "      <th></th>\n",
       "      <th>id</th>\n",
       "      <th>text</th>\n",
       "      <th>user</th>\n",
       "      <th>user_verified</th>\n",
       "      <th>user_followers_count</th>\n",
       "      <th>user_friends_count</th>\n",
       "      <th>retweet_count</th>\n",
       "      <th>fav_count</th>\n",
       "      <th>hashtags</th>\n",
       "      <th>target</th>\n",
       "    </tr>\n",
       "  </thead>\n",
       "  <tbody>\n",
       "    <tr>\n",
       "      <th>12751</th>\n",
       "      <td>595346833972408320</td>\n",
       "      <td>RT @Quinnae_Moon: That's not merely because of...</td>\n",
       "      <td>randileeharper</td>\n",
       "      <td>True</td>\n",
       "      <td>19435</td>\n",
       "      <td>766</td>\n",
       "      <td>13</td>\n",
       "      <td>0</td>\n",
       "      <td>[]</td>\n",
       "      <td>neither</td>\n",
       "    </tr>\n",
       "    <tr>\n",
       "      <th>12752</th>\n",
       "      <td>596356013730598912</td>\n",
       "      <td>But this just goes to prove - @TychoBrahe only...</td>\n",
       "      <td>randileeharper</td>\n",
       "      <td>True</td>\n",
       "      <td>19435</td>\n",
       "      <td>766</td>\n",
       "      <td>12</td>\n",
       "      <td>16</td>\n",
       "      <td>[]</td>\n",
       "      <td>neither</td>\n",
       "    </tr>\n",
       "    <tr>\n",
       "      <th>12753</th>\n",
       "      <td>603639577920839681</td>\n",
       "      <td>RT @olsen31shannon: Wow I love being called a ...</td>\n",
       "      <td>ambvrrr</td>\n",
       "      <td>False</td>\n",
       "      <td>3691</td>\n",
       "      <td>721</td>\n",
       "      <td>1</td>\n",
       "      <td>0</td>\n",
       "      <td>[]</td>\n",
       "      <td>neither</td>\n",
       "    </tr>\n",
       "    <tr>\n",
       "      <th>12754</th>\n",
       "      <td>595282956970655744</td>\n",
       "      <td>RT @j_bigboote: @freebsdgirl You'd think havin...</td>\n",
       "      <td>randileeharper</td>\n",
       "      <td>True</td>\n",
       "      <td>19435</td>\n",
       "      <td>766</td>\n",
       "      <td>6</td>\n",
       "      <td>0</td>\n",
       "      <td>[]</td>\n",
       "      <td>neither</td>\n",
       "    </tr>\n",
       "    <tr>\n",
       "      <th>12755</th>\n",
       "      <td>575480549332008962</td>\n",
       "      <td>via @weaselzippers: Feminazi Blog Reminds Libe...</td>\n",
       "      <td>commonpatriot</td>\n",
       "      <td>False</td>\n",
       "      <td>15093</td>\n",
       "      <td>13525</td>\n",
       "      <td>0</td>\n",
       "      <td>0</td>\n",
       "      <td>[{'text': 'tcot', 'indices': [131, 136]}]</td>\n",
       "      <td>sexism</td>\n",
       "    </tr>\n",
       "  </tbody>\n",
       "</table>\n",
       "</div>"
      ],
      "text/plain": [
       "                       id                                               text  \\\n",
       "12751  595346833972408320  RT @Quinnae_Moon: That's not merely because of...   \n",
       "12752  596356013730598912  But this just goes to prove - @TychoBrahe only...   \n",
       "12753  603639577920839681  RT @olsen31shannon: Wow I love being called a ...   \n",
       "12754  595282956970655744  RT @j_bigboote: @freebsdgirl You'd think havin...   \n",
       "12755  575480549332008962  via @weaselzippers: Feminazi Blog Reminds Libe...   \n",
       "\n",
       "                 user  user_verified  user_followers_count  \\\n",
       "12751  randileeharper           True                 19435   \n",
       "12752  randileeharper           True                 19435   \n",
       "12753         ambvrrr          False                  3691   \n",
       "12754  randileeharper           True                 19435   \n",
       "12755   commonpatriot          False                 15093   \n",
       "\n",
       "       user_friends_count  retweet_count  fav_count  \\\n",
       "12751                 766             13          0   \n",
       "12752                 766             12         16   \n",
       "12753                 721              1          0   \n",
       "12754                 766              6          0   \n",
       "12755               13525              0          0   \n",
       "\n",
       "                                        hashtags   target  \n",
       "12751                                         []  neither  \n",
       "12752                                         []  neither  \n",
       "12753                                         []  neither  \n",
       "12754                                         []  neither  \n",
       "12755  [{'text': 'tcot', 'indices': [131, 136]}]   sexism  "
      ]
     },
     "execution_count": 5,
     "metadata": {},
     "output_type": "execute_result"
    }
   ],
   "source": [
    "df.tail()"
   ]
  },
  {
   "cell_type": "code",
   "execution_count": 6,
   "metadata": {
    "scrolled": true
   },
   "outputs": [
    {
     "data": {
      "text/plain": [
       "none       83\n",
       "sexism     26\n",
       "neither    12\n",
       "racism      2\n",
       "both        1\n",
       "Name: target, dtype: int64"
      ]
     },
     "execution_count": 6,
     "metadata": {},
     "output_type": "execute_result"
    }
   ],
   "source": [
    "df[df.user_friends_count==0]['target'].value_counts()"
   ]
  },
  {
   "cell_type": "code",
   "execution_count": 7,
   "metadata": {},
   "outputs": [],
   "source": [
    "def labe(x):\n",
    "    if x == 'none' or x == 'neither': return 0\n",
    "    return 1"
   ]
  },
  {
   "cell_type": "code",
   "execution_count": 8,
   "metadata": {},
   "outputs": [],
   "source": [
    "df['label'] = df.target.apply(labe)"
   ]
  },
  {
   "cell_type": "code",
   "execution_count": 9,
   "metadata": {},
   "outputs": [],
   "source": [
    "w = []\n",
    "with open('../data/hatewords.txt', 'r') as f:\n",
    "    for line in f.readlines():\n",
    "        w.append(line.split('\\t')[0][:-1])\n",
    "w = list(set(w))"
   ]
  },
  {
   "cell_type": "code",
   "execution_count": null,
   "metadata": {},
   "outputs": [],
   "source": []
  },
  {
   "cell_type": "code",
   "execution_count": null,
   "metadata": {},
   "outputs": [],
   "source": []
  },
  {
   "cell_type": "code",
   "execution_count": null,
   "metadata": {},
   "outputs": [],
   "source": []
  },
  {
   "cell_type": "code",
   "execution_count": 10,
   "metadata": {},
   "outputs": [],
   "source": [
    "HATE = 1\n",
    "NONHATE = 0\n",
    "ABSTAIN = -1"
   ]
  },
  {
   "cell_type": "code",
   "execution_count": 11,
   "metadata": {},
   "outputs": [],
   "source": [
    "@labeling_function()\n",
    "def lf_hate_words(x):\n",
    "    text = x.text.lower()\n",
    "    for word in w:\n",
    "        if word in text.split(): return HATE\n",
    "    return NONHATE"
   ]
  },
  {
   "cell_type": "code",
   "execution_count": 12,
   "metadata": {},
   "outputs": [],
   "source": [
    "@labeling_function()\n",
    "def lf_fav_count(x):\n",
    "    return NONHATE if x.fav_count > 10 else ABSTAIN"
   ]
  },
  {
   "cell_type": "code",
   "execution_count": 13,
   "metadata": {},
   "outputs": [],
   "source": [
    "@labeling_function()\n",
    "def lf_user_friends_count(x):\n",
    "    return NONHATE if x.user_friends_count > 10 else ABSTAIN"
   ]
  },
  {
   "cell_type": "code",
   "execution_count": 14,
   "metadata": {},
   "outputs": [],
   "source": [
    "@labeling_function()\n",
    "def lf_user_followers_count(x):\n",
    "    return NONHATE if x.user_followers_count > 10 else ABSTAIN"
   ]
  },
  {
   "cell_type": "code",
   "execution_count": 15,
   "metadata": {},
   "outputs": [],
   "source": [
    "@labeling_function()\n",
    "def lf_user_verified(x):\n",
    "    return NONHATE if x.user_verified else HATE"
   ]
  },
  {
   "cell_type": "code",
   "execution_count": 16,
   "metadata": {},
   "outputs": [],
   "source": [
    "@labeling_function()\n",
    "def lf_textblob_polarity(x):\n",
    "    return NONHATE if TextBlob(x.text).sentiment.polarity > 0.3 else ABSTAIN"
   ]
  },
  {
   "cell_type": "code",
   "execution_count": 17,
   "metadata": {},
   "outputs": [],
   "source": [
    "from snorkel.labeling.model import LabelModel\n",
    "from snorkel.labeling import PandasLFApplier"
   ]
  },
  {
   "cell_type": "code",
   "execution_count": 18,
   "metadata": {},
   "outputs": [],
   "source": [
    "# Define the set of labeling functions (LFs)\n",
    "lfs = [lf_hate_words, lf_fav_count, lf_user_friends_count, lf_user_followers_count, lf_user_verified, lf_textblob_polarity]"
   ]
  },
  {
   "cell_type": "code",
   "execution_count": 19,
   "metadata": {},
   "outputs": [
    {
     "name": "stderr",
     "output_type": "stream",
     "text": [
      "/home/ayush/.local/lib/python3.8/site-packages/tqdm/std.py:703: FutureWarning: The Panel class is removed from pandas. Accessing it from the top-level namespace will also be removed in the next version\n",
      "  from pandas import Panel\n",
      "100%|██████████| 12756/12756 [00:11<00:00, 1121.37it/s]\n"
     ]
    }
   ],
   "source": [
    "# Apply the LFs to the unlabeled training data\n",
    "applier = PandasLFApplier(lfs)\n",
    "L_train = applier.apply(df)"
   ]
  },
  {
   "cell_type": "code",
   "execution_count": 20,
   "metadata": {},
   "outputs": [
    {
     "name": "stderr",
     "output_type": "stream",
     "text": [
      "/home/ayush/.local/lib/python3.8/site-packages/torch/autograd/__init__.py:130: UserWarning: CUDA initialization: Found no NVIDIA driver on your system. Please check that you have an NVIDIA GPU and installed a driver from http://www.nvidia.com/Download/index.aspx (Triggered internally at  /pytorch/c10/cuda/CUDAFunctions.cpp:100.)\n",
      "  Variable._execution_engine.run_backward(\n"
     ]
    }
   ],
   "source": [
    "# Train the label model and compute the training labels\n",
    "label_model = LabelModel(cardinality=2, verbose=True)\n",
    "label_model.fit(L_train, n_epochs=500, log_freq=50, seed=123)\n",
    "df[\"snorkel_label\"] = label_model.predict(L=L_train, tie_break_policy=\"abstain\")"
   ]
  },
  {
   "cell_type": "code",
   "execution_count": null,
   "metadata": {},
   "outputs": [],
   "source": []
  },
  {
   "cell_type": "code",
   "execution_count": 21,
   "metadata": {},
   "outputs": [],
   "source": [
    "df[\"snorkel_prob\"] = [i[1] for i in label_model.predict(L=L_train, tie_break_policy=\"abstain\", return_probs=True)[1]]"
   ]
  },
  {
   "cell_type": "code",
   "execution_count": null,
   "metadata": {},
   "outputs": [],
   "source": []
  },
  {
   "cell_type": "code",
   "execution_count": null,
   "metadata": {},
   "outputs": [],
   "source": []
  },
  {
   "cell_type": "code",
   "execution_count": 22,
   "metadata": {},
   "outputs": [],
   "source": [
    "df = df[df.label != ABSTAIN]"
   ]
  },
  {
   "cell_type": "code",
   "execution_count": 24,
   "metadata": {},
   "outputs": [
    {
     "data": {
      "text/plain": [
       "8584"
      ]
     },
     "execution_count": 24,
     "metadata": {},
     "output_type": "execute_result"
    }
   ],
   "source": [
    "sum(df.label==df.snorkel_label)"
   ]
  },
  {
   "cell_type": "code",
   "execution_count": 25,
   "metadata": {},
   "outputs": [
    {
     "data": {
      "text/plain": [
       "12756"
      ]
     },
     "execution_count": 25,
     "metadata": {},
     "output_type": "execute_result"
    }
   ],
   "source": [
    "len(df)"
   ]
  },
  {
   "cell_type": "code",
   "execution_count": 26,
   "metadata": {},
   "outputs": [
    {
     "data": {
      "text/html": [
       "<div>\n",
       "<style scoped>\n",
       "    .dataframe tbody tr th:only-of-type {\n",
       "        vertical-align: middle;\n",
       "    }\n",
       "\n",
       "    .dataframe tbody tr th {\n",
       "        vertical-align: top;\n",
       "    }\n",
       "\n",
       "    .dataframe thead th {\n",
       "        text-align: right;\n",
       "    }\n",
       "</style>\n",
       "<table border=\"1\" class=\"dataframe\">\n",
       "  <thead>\n",
       "    <tr style=\"text-align: right;\">\n",
       "      <th></th>\n",
       "      <th>id</th>\n",
       "      <th>text</th>\n",
       "      <th>user</th>\n",
       "      <th>user_verified</th>\n",
       "      <th>user_followers_count</th>\n",
       "      <th>user_friends_count</th>\n",
       "      <th>retweet_count</th>\n",
       "      <th>fav_count</th>\n",
       "      <th>hashtags</th>\n",
       "      <th>target</th>\n",
       "      <th>label</th>\n",
       "      <th>snorkel_label</th>\n",
       "      <th>snorkel_prob</th>\n",
       "    </tr>\n",
       "  </thead>\n",
       "  <tbody>\n",
       "    <tr>\n",
       "      <th>0</th>\n",
       "      <td>572332655397629952</td>\n",
       "      <td>These girls are the equivalent of the irritati...</td>\n",
       "      <td>JL_Whitaker</td>\n",
       "      <td>False</td>\n",
       "      <td>2189</td>\n",
       "      <td>2186</td>\n",
       "      <td>0</td>\n",
       "      <td>2</td>\n",
       "      <td>[{'text': 'MKR', 'indices': [95, 99]}]</td>\n",
       "      <td>racism</td>\n",
       "      <td>1</td>\n",
       "      <td>1</td>\n",
       "      <td>0.549079</td>\n",
       "    </tr>\n",
       "    <tr>\n",
       "      <th>1</th>\n",
       "      <td>572341498827522049</td>\n",
       "      <td>Drasko they didn't cook half a bird you idiot ...</td>\n",
       "      <td>trish2295</td>\n",
       "      <td>False</td>\n",
       "      <td>14</td>\n",
       "      <td>62</td>\n",
       "      <td>0</td>\n",
       "      <td>4</td>\n",
       "      <td>[{'text': 'mkr', 'indices': [46, 50]}]</td>\n",
       "      <td>neither</td>\n",
       "      <td>0</td>\n",
       "      <td>1</td>\n",
       "      <td>0.897941</td>\n",
       "    </tr>\n",
       "    <tr>\n",
       "      <th>2</th>\n",
       "      <td>572340476503724032</td>\n",
       "      <td>Hopefully someone cooks Drasko in the next ep ...</td>\n",
       "      <td>foodbling</td>\n",
       "      <td>False</td>\n",
       "      <td>3432</td>\n",
       "      <td>2529</td>\n",
       "      <td>0</td>\n",
       "      <td>2</td>\n",
       "      <td>[{'text': 'MKR', 'indices': [49, 53]}]</td>\n",
       "      <td>neither</td>\n",
       "      <td>0</td>\n",
       "      <td>1</td>\n",
       "      <td>0.549079</td>\n",
       "    </tr>\n",
       "    <tr>\n",
       "      <th>3</th>\n",
       "      <td>572334712804384768</td>\n",
       "      <td>of course you were born in serbia...you're as ...</td>\n",
       "      <td>lilbeastunleash</td>\n",
       "      <td>False</td>\n",
       "      <td>529</td>\n",
       "      <td>1848</td>\n",
       "      <td>0</td>\n",
       "      <td>0</td>\n",
       "      <td>[{'text': 'MKR', 'indices': [71, 75]}]</td>\n",
       "      <td>racism</td>\n",
       "      <td>1</td>\n",
       "      <td>1</td>\n",
       "      <td>0.549079</td>\n",
       "    </tr>\n",
       "    <tr>\n",
       "      <th>4</th>\n",
       "      <td>572342978255048705</td>\n",
       "      <td>So Drasko just said he was impressed the girls...</td>\n",
       "      <td>thefoxbandit</td>\n",
       "      <td>False</td>\n",
       "      <td>7</td>\n",
       "      <td>0</td>\n",
       "      <td>0</td>\n",
       "      <td>2</td>\n",
       "      <td>[{'text': 'MKR', 'indices': [96, 100]}]</td>\n",
       "      <td>neither</td>\n",
       "      <td>0</td>\n",
       "      <td>1</td>\n",
       "      <td>0.597545</td>\n",
       "    </tr>\n",
       "  </tbody>\n",
       "</table>\n",
       "</div>"
      ],
      "text/plain": [
       "                   id                                               text  \\\n",
       "0  572332655397629952  These girls are the equivalent of the irritati...   \n",
       "1  572341498827522049  Drasko they didn't cook half a bird you idiot ...   \n",
       "2  572340476503724032  Hopefully someone cooks Drasko in the next ep ...   \n",
       "3  572334712804384768  of course you were born in serbia...you're as ...   \n",
       "4  572342978255048705  So Drasko just said he was impressed the girls...   \n",
       "\n",
       "              user  user_verified  user_followers_count  user_friends_count  \\\n",
       "0      JL_Whitaker          False                  2189                2186   \n",
       "1        trish2295          False                    14                  62   \n",
       "2        foodbling          False                  3432                2529   \n",
       "3  lilbeastunleash          False                   529                1848   \n",
       "4     thefoxbandit          False                     7                   0   \n",
       "\n",
       "   retweet_count  fav_count                                 hashtags   target  \\\n",
       "0              0          2   [{'text': 'MKR', 'indices': [95, 99]}]   racism   \n",
       "1              0          4   [{'text': 'mkr', 'indices': [46, 50]}]  neither   \n",
       "2              0          2   [{'text': 'MKR', 'indices': [49, 53]}]  neither   \n",
       "3              0          0   [{'text': 'MKR', 'indices': [71, 75]}]   racism   \n",
       "4              0          2  [{'text': 'MKR', 'indices': [96, 100]}]  neither   \n",
       "\n",
       "   label  snorkel_label  snorkel_prob  \n",
       "0      1              1      0.549079  \n",
       "1      0              1      0.897941  \n",
       "2      0              1      0.549079  \n",
       "3      1              1      0.549079  \n",
       "4      0              1      0.597545  "
      ]
     },
     "execution_count": 26,
     "metadata": {},
     "output_type": "execute_result"
    }
   ],
   "source": [
    "df.head()"
   ]
  },
  {
   "cell_type": "code",
   "execution_count": 23,
   "metadata": {},
   "outputs": [],
   "source": [
    "df.to_csv('../data/training_data_snorkel_label1.csv', index=False)"
   ]
  },
  {
   "cell_type": "code",
   "execution_count": null,
   "metadata": {},
   "outputs": [],
   "source": []
  }
 ],
 "metadata": {
  "kernelspec": {
   "display_name": "Python 3",
   "language": "python",
   "name": "python3"
  },
  "language_info": {
   "codemirror_mode": {
    "name": "ipython",
    "version": 3
   },
   "file_extension": ".py",
   "mimetype": "text/x-python",
   "name": "python",
   "nbconvert_exporter": "python",
   "pygments_lexer": "ipython3",
   "version": "3.8.2"
  }
 },
 "nbformat": 4,
 "nbformat_minor": 4
}
