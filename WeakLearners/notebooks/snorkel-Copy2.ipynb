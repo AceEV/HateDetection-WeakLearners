{
 "cells": [
  {
   "cell_type": "code",
   "execution_count": 1,
   "metadata": {},
   "outputs": [],
   "source": [
    "from textblob import TextBlob\n",
    "import pandas as pd\n",
    "import numpy as np\n",
    "from snorkel.labeling import labeling_function"
   ]
  },
  {
   "cell_type": "code",
   "execution_count": 2,
   "metadata": {},
   "outputs": [],
   "source": [
    "_data_path = \"../data/training_data_snorkel_label.csv\"\n",
    "df = pd.read_csv(_data_path)[:]"
   ]
  },
  {
   "cell_type": "code",
   "execution_count": 3,
   "metadata": {},
   "outputs": [],
   "source": [
    "df.dropna(inplace=True)"
   ]
  },
  {
   "cell_type": "code",
   "execution_count": 24,
   "metadata": {},
   "outputs": [
    {
     "data": {
      "text/html": [
       "<div>\n",
       "<style scoped>\n",
       "    .dataframe tbody tr th:only-of-type {\n",
       "        vertical-align: middle;\n",
       "    }\n",
       "\n",
       "    .dataframe tbody tr th {\n",
       "        vertical-align: top;\n",
       "    }\n",
       "\n",
       "    .dataframe thead th {\n",
       "        text-align: right;\n",
       "    }\n",
       "</style>\n",
       "<table border=\"1\" class=\"dataframe\">\n",
       "  <thead>\n",
       "    <tr style=\"text-align: right;\">\n",
       "      <th></th>\n",
       "      <th>id</th>\n",
       "      <th>text</th>\n",
       "      <th>user</th>\n",
       "      <th>user_verified</th>\n",
       "      <th>user_followers_count</th>\n",
       "      <th>user_friends_count</th>\n",
       "      <th>retweet_count</th>\n",
       "      <th>fav_count</th>\n",
       "      <th>hashtags</th>\n",
       "      <th>target</th>\n",
       "      <th>snorkel_label</th>\n",
       "      <th>label</th>\n",
       "      <th>ttt</th>\n",
       "    </tr>\n",
       "  </thead>\n",
       "  <tbody>\n",
       "    <tr>\n",
       "      <th>0</th>\n",
       "      <td>572332655397629952</td>\n",
       "      <td>These girls are the equivalent of the irritati...</td>\n",
       "      <td>JL_Whitaker</td>\n",
       "      <td>False</td>\n",
       "      <td>2189.0</td>\n",
       "      <td>2186.0</td>\n",
       "      <td>0.0</td>\n",
       "      <td>2</td>\n",
       "      <td>[{'text': 'MKR', 'indices': [95, 99]}]</td>\n",
       "      <td>racism</td>\n",
       "      <td>1.0</td>\n",
       "      <td>1.0</td>\n",
       "      <td>0</td>\n",
       "    </tr>\n",
       "    <tr>\n",
       "      <th>1</th>\n",
       "      <td>572341498827522049</td>\n",
       "      <td>Drasko they didn't cook half a bird you idiot ...</td>\n",
       "      <td>trish2295</td>\n",
       "      <td>False</td>\n",
       "      <td>14.0</td>\n",
       "      <td>62.0</td>\n",
       "      <td>0.0</td>\n",
       "      <td>4</td>\n",
       "      <td>[{'text': 'mkr', 'indices': [46, 50]}]</td>\n",
       "      <td>neither</td>\n",
       "      <td>0.0</td>\n",
       "      <td>1.0</td>\n",
       "      <td>0</td>\n",
       "    </tr>\n",
       "    <tr>\n",
       "      <th>2</th>\n",
       "      <td>572340476503724032</td>\n",
       "      <td>Hopefully someone cooks Drasko in the next ep ...</td>\n",
       "      <td>foodbling</td>\n",
       "      <td>False</td>\n",
       "      <td>3432.0</td>\n",
       "      <td>2529.0</td>\n",
       "      <td>0.0</td>\n",
       "      <td>2</td>\n",
       "      <td>[{'text': 'MKR', 'indices': [49, 53]}]</td>\n",
       "      <td>neither</td>\n",
       "      <td>0.0</td>\n",
       "      <td>1.0</td>\n",
       "      <td>0</td>\n",
       "    </tr>\n",
       "    <tr>\n",
       "      <th>3</th>\n",
       "      <td>572334712804384768</td>\n",
       "      <td>of course you were born in serbia...you're as ...</td>\n",
       "      <td>lilbeastunleash</td>\n",
       "      <td>False</td>\n",
       "      <td>529.0</td>\n",
       "      <td>1848.0</td>\n",
       "      <td>0.0</td>\n",
       "      <td>0</td>\n",
       "      <td>[{'text': 'MKR', 'indices': [71, 75]}]</td>\n",
       "      <td>racism</td>\n",
       "      <td>1.0</td>\n",
       "      <td>1.0</td>\n",
       "      <td>0</td>\n",
       "    </tr>\n",
       "    <tr>\n",
       "      <th>4</th>\n",
       "      <td>572342978255048705</td>\n",
       "      <td>So Drasko just said he was impressed the girls...</td>\n",
       "      <td>thefoxbandit</td>\n",
       "      <td>False</td>\n",
       "      <td>7.0</td>\n",
       "      <td>0.0</td>\n",
       "      <td>0.0</td>\n",
       "      <td>2</td>\n",
       "      <td>[{'text': 'MKR', 'indices': [96, 100]}]</td>\n",
       "      <td>neither</td>\n",
       "      <td>0.0</td>\n",
       "      <td>1.0</td>\n",
       "      <td>0</td>\n",
       "    </tr>\n",
       "  </tbody>\n",
       "</table>\n",
       "</div>"
      ],
      "text/plain": [
       "                   id                                               text  \\\n",
       "0  572332655397629952  These girls are the equivalent of the irritati...   \n",
       "1  572341498827522049  Drasko they didn't cook half a bird you idiot ...   \n",
       "2  572340476503724032  Hopefully someone cooks Drasko in the next ep ...   \n",
       "3  572334712804384768  of course you were born in serbia...you're as ...   \n",
       "4  572342978255048705  So Drasko just said he was impressed the girls...   \n",
       "\n",
       "              user user_verified  user_followers_count  user_friends_count  \\\n",
       "0      JL_Whitaker         False                2189.0              2186.0   \n",
       "1        trish2295         False                  14.0                62.0   \n",
       "2        foodbling         False                3432.0              2529.0   \n",
       "3  lilbeastunleash         False                 529.0              1848.0   \n",
       "4     thefoxbandit         False                   7.0                 0.0   \n",
       "\n",
       "   retweet_count fav_count                                 hashtags   target  \\\n",
       "0            0.0         2   [{'text': 'MKR', 'indices': [95, 99]}]   racism   \n",
       "1            0.0         4   [{'text': 'mkr', 'indices': [46, 50]}]  neither   \n",
       "2            0.0         2   [{'text': 'MKR', 'indices': [49, 53]}]  neither   \n",
       "3            0.0         0   [{'text': 'MKR', 'indices': [71, 75]}]   racism   \n",
       "4            0.0         2  [{'text': 'MKR', 'indices': [96, 100]}]  neither   \n",
       "\n",
       "   snorkel_label  label  ttt  \n",
       "0            1.0    1.0    0  \n",
       "1            0.0    1.0    0  \n",
       "2            0.0    1.0    0  \n",
       "3            1.0    1.0    0  \n",
       "4            0.0    1.0    0  "
      ]
     },
     "execution_count": 24,
     "metadata": {},
     "output_type": "execute_result"
    }
   ],
   "source": [
    "df.head()"
   ]
  },
  {
   "cell_type": "code",
   "execution_count": 4,
   "metadata": {},
   "outputs": [
    {
     "name": "stdout",
     "output_type": "stream",
     "text": [
      "<class 'pandas.core.frame.DataFrame'>\n",
      "Int64Index: 12755 entries, 0 to 12757\n",
      "Data columns (total 12 columns):\n",
      " #   Column                Non-Null Count  Dtype  \n",
      "---  ------                --------------  -----  \n",
      " 0   id                    12755 non-null  object \n",
      " 1   text                  12755 non-null  object \n",
      " 2   user                  12755 non-null  object \n",
      " 3   user_verified         12755 non-null  object \n",
      " 4   user_followers_count  12755 non-null  float64\n",
      " 5   user_friends_count    12755 non-null  float64\n",
      " 6   retweet_count         12755 non-null  float64\n",
      " 7   fav_count             12755 non-null  object \n",
      " 8   hashtags              12755 non-null  object \n",
      " 9   target                12755 non-null  object \n",
      " 10  snorkel_label         12755 non-null  float64\n",
      " 11  label                 12755 non-null  float64\n",
      "dtypes: float64(5), object(7)\n",
      "memory usage: 1.3+ MB\n"
     ]
    }
   ],
   "source": [
    "df.info()"
   ]
  },
  {
   "cell_type": "code",
   "execution_count": 5,
   "metadata": {},
   "outputs": [],
   "source": [
    "w = []\n",
    "with open('../data/hatewords.txt', 'r') as f:\n",
    "    for line in f.readlines():\n",
    "        w.append(line.split('\\t')[0][:-1])\n",
    "w = list(set(w))"
   ]
  },
  {
   "cell_type": "code",
   "execution_count": null,
   "metadata": {},
   "outputs": [],
   "source": []
  },
  {
   "cell_type": "code",
   "execution_count": null,
   "metadata": {},
   "outputs": [],
   "source": []
  },
  {
   "cell_type": "code",
   "execution_count": null,
   "metadata": {},
   "outputs": [],
   "source": []
  },
  {
   "cell_type": "code",
   "execution_count": 6,
   "metadata": {},
   "outputs": [],
   "source": [
    "HATE = 1\n",
    "NONHATE = 0\n",
    "ABSTAIN = -1"
   ]
  },
  {
   "cell_type": "code",
   "execution_count": 7,
   "metadata": {},
   "outputs": [],
   "source": [
    "@labeling_function()\n",
    "def lf_hate_words(x):\n",
    "    text = x.text.lower()\n",
    "    for word in w:\n",
    "        if word in text.split(): return HATE\n",
    "    return NONHATE"
   ]
  },
  {
   "cell_type": "code",
   "execution_count": 8,
   "metadata": {},
   "outputs": [],
   "source": [
    "@labeling_function()\n",
    "def lf_fav_count(x):\n",
    "    return NONHATE if int(x.fav_count) > 10 else ABSTAIN"
   ]
  },
  {
   "cell_type": "code",
   "execution_count": 9,
   "metadata": {},
   "outputs": [],
   "source": [
    "@labeling_function()\n",
    "def lf_user_friends_count(x):\n",
    "    return NONHATE if x.user_friends_count > 10 else ABSTAIN"
   ]
  },
  {
   "cell_type": "code",
   "execution_count": 10,
   "metadata": {},
   "outputs": [],
   "source": [
    "@labeling_function()\n",
    "def lf_user_followers_count(x):\n",
    "    return NONHATE if x.user_followers_count > 10 else ABSTAIN"
   ]
  },
  {
   "cell_type": "code",
   "execution_count": 11,
   "metadata": {},
   "outputs": [],
   "source": [
    "@labeling_function()\n",
    "def lf_user_verified(x):\n",
    "    return NONHATE if x.user_verified else HATE"
   ]
  },
  {
   "cell_type": "code",
   "execution_count": 12,
   "metadata": {},
   "outputs": [],
   "source": [
    "@labeling_function()\n",
    "def lf_textblob_polarity(x):\n",
    "    return NONHATE if TextBlob(x.text).sentiment.polarity > 0.3 else ABSTAIN"
   ]
  },
  {
   "cell_type": "code",
   "execution_count": 13,
   "metadata": {},
   "outputs": [],
   "source": [
    "from snorkel.labeling.model import LabelModel\n",
    "from snorkel.labeling import PandasLFApplier"
   ]
  },
  {
   "cell_type": "code",
   "execution_count": 14,
   "metadata": {},
   "outputs": [],
   "source": [
    "# Define the set of labeling functions (LFs)\n",
    "lfs = [lf_hate_words, lf_fav_count, lf_user_friends_count, lf_user_followers_count, lf_user_verified, lf_textblob_polarity]"
   ]
  },
  {
   "cell_type": "code",
   "execution_count": 15,
   "metadata": {},
   "outputs": [
    {
     "name": "stderr",
     "output_type": "stream",
     "text": [
      "/home/ayush/.local/lib/python3.8/site-packages/tqdm/std.py:703: FutureWarning: The Panel class is removed from pandas. Accessing it from the top-level namespace will also be removed in the next version\n",
      "  from pandas import Panel\n",
      "100%|██████████| 12755/12755 [00:11<00:00, 1126.67it/s]\n"
     ]
    }
   ],
   "source": [
    "# Apply the LFs to the unlabeled training data\n",
    "applier = PandasLFApplier(lfs)\n",
    "L_train = applier.apply(df)"
   ]
  },
  {
   "cell_type": "code",
   "execution_count": 16,
   "metadata": {},
   "outputs": [
    {
     "name": "stderr",
     "output_type": "stream",
     "text": [
      "/home/ayush/.local/lib/python3.8/site-packages/torch/autograd/__init__.py:130: UserWarning: CUDA initialization: Found no NVIDIA driver on your system. Please check that you have an NVIDIA GPU and installed a driver from http://www.nvidia.com/Download/index.aspx (Triggered internally at  /pytorch/c10/cuda/CUDAFunctions.cpp:100.)\n",
      "  Variable._execution_engine.run_backward(\n"
     ]
    }
   ],
   "source": [
    "# Train the label model and compute the training labels\n",
    "label_model = LabelModel(cardinality=2, verbose=True)\n",
    "label_model.fit(L_train, n_epochs=500, log_freq=50, seed=123)\n",
    "df[\"ttt\"] = label_model.predict(L=L_train, tie_break_policy=\"abstain\")"
   ]
  },
  {
   "cell_type": "code",
   "execution_count": 20,
   "metadata": {},
   "outputs": [
    {
     "data": {
      "text/plain": [
       "6278"
      ]
     },
     "execution_count": 20,
     "metadata": {},
     "output_type": "execute_result"
    }
   ],
   "source": [
    "sum(df.ttt==df.label)"
   ]
  },
  {
   "cell_type": "code",
   "execution_count": 18,
   "metadata": {},
   "outputs": [
    {
     "data": {
      "text/plain": [
       "12755"
      ]
     },
     "execution_count": 18,
     "metadata": {},
     "output_type": "execute_result"
    }
   ],
   "source": [
    "len(df)"
   ]
  },
  {
   "cell_type": "code",
   "execution_count": 19,
   "metadata": {},
   "outputs": [
    {
     "data": {
      "text/plain": [
       "12755"
      ]
     },
     "execution_count": 19,
     "metadata": {},
     "output_type": "execute_result"
    }
   ],
   "source": [
    "len(df[df.label != ABSTAIN])"
   ]
  },
  {
   "cell_type": "code",
   "execution_count": 25,
   "metadata": {},
   "outputs": [
    {
     "data": {
      "text/html": [
       "<div>\n",
       "<style scoped>\n",
       "    .dataframe tbody tr th:only-of-type {\n",
       "        vertical-align: middle;\n",
       "    }\n",
       "\n",
       "    .dataframe tbody tr th {\n",
       "        vertical-align: top;\n",
       "    }\n",
       "\n",
       "    .dataframe thead th {\n",
       "        text-align: right;\n",
       "    }\n",
       "</style>\n",
       "<table border=\"1\" class=\"dataframe\">\n",
       "  <thead>\n",
       "    <tr style=\"text-align: right;\">\n",
       "      <th></th>\n",
       "      <th>id</th>\n",
       "      <th>text</th>\n",
       "      <th>user</th>\n",
       "      <th>user_verified</th>\n",
       "      <th>user_followers_count</th>\n",
       "      <th>user_friends_count</th>\n",
       "      <th>retweet_count</th>\n",
       "      <th>fav_count</th>\n",
       "      <th>hashtags</th>\n",
       "      <th>target</th>\n",
       "      <th>snorkel_label</th>\n",
       "      <th>label</th>\n",
       "      <th>ttt</th>\n",
       "    </tr>\n",
       "  </thead>\n",
       "  <tbody>\n",
       "    <tr>\n",
       "      <th>0</th>\n",
       "      <td>572332655397629952</td>\n",
       "      <td>These girls are the equivalent of the irritati...</td>\n",
       "      <td>JL_Whitaker</td>\n",
       "      <td>False</td>\n",
       "      <td>2189.0</td>\n",
       "      <td>2186.0</td>\n",
       "      <td>0.0</td>\n",
       "      <td>2</td>\n",
       "      <td>[{'text': 'MKR', 'indices': [95, 99]}]</td>\n",
       "      <td>racism</td>\n",
       "      <td>1.0</td>\n",
       "      <td>1.0</td>\n",
       "      <td>0</td>\n",
       "    </tr>\n",
       "    <tr>\n",
       "      <th>1</th>\n",
       "      <td>572341498827522049</td>\n",
       "      <td>Drasko they didn't cook half a bird you idiot ...</td>\n",
       "      <td>trish2295</td>\n",
       "      <td>False</td>\n",
       "      <td>14.0</td>\n",
       "      <td>62.0</td>\n",
       "      <td>0.0</td>\n",
       "      <td>4</td>\n",
       "      <td>[{'text': 'mkr', 'indices': [46, 50]}]</td>\n",
       "      <td>neither</td>\n",
       "      <td>0.0</td>\n",
       "      <td>1.0</td>\n",
       "      <td>0</td>\n",
       "    </tr>\n",
       "    <tr>\n",
       "      <th>2</th>\n",
       "      <td>572340476503724032</td>\n",
       "      <td>Hopefully someone cooks Drasko in the next ep ...</td>\n",
       "      <td>foodbling</td>\n",
       "      <td>False</td>\n",
       "      <td>3432.0</td>\n",
       "      <td>2529.0</td>\n",
       "      <td>0.0</td>\n",
       "      <td>2</td>\n",
       "      <td>[{'text': 'MKR', 'indices': [49, 53]}]</td>\n",
       "      <td>neither</td>\n",
       "      <td>0.0</td>\n",
       "      <td>1.0</td>\n",
       "      <td>0</td>\n",
       "    </tr>\n",
       "    <tr>\n",
       "      <th>3</th>\n",
       "      <td>572334712804384768</td>\n",
       "      <td>of course you were born in serbia...you're as ...</td>\n",
       "      <td>lilbeastunleash</td>\n",
       "      <td>False</td>\n",
       "      <td>529.0</td>\n",
       "      <td>1848.0</td>\n",
       "      <td>0.0</td>\n",
       "      <td>0</td>\n",
       "      <td>[{'text': 'MKR', 'indices': [71, 75]}]</td>\n",
       "      <td>racism</td>\n",
       "      <td>1.0</td>\n",
       "      <td>1.0</td>\n",
       "      <td>0</td>\n",
       "    </tr>\n",
       "    <tr>\n",
       "      <th>4</th>\n",
       "      <td>572342978255048705</td>\n",
       "      <td>So Drasko just said he was impressed the girls...</td>\n",
       "      <td>thefoxbandit</td>\n",
       "      <td>False</td>\n",
       "      <td>7.0</td>\n",
       "      <td>0.0</td>\n",
       "      <td>0.0</td>\n",
       "      <td>2</td>\n",
       "      <td>[{'text': 'MKR', 'indices': [96, 100]}]</td>\n",
       "      <td>neither</td>\n",
       "      <td>0.0</td>\n",
       "      <td>1.0</td>\n",
       "      <td>0</td>\n",
       "    </tr>\n",
       "    <tr>\n",
       "      <th>...</th>\n",
       "      <td>...</td>\n",
       "      <td>...</td>\n",
       "      <td>...</td>\n",
       "      <td>...</td>\n",
       "      <td>...</td>\n",
       "      <td>...</td>\n",
       "      <td>...</td>\n",
       "      <td>...</td>\n",
       "      <td>...</td>\n",
       "      <td>...</td>\n",
       "      <td>...</td>\n",
       "      <td>...</td>\n",
       "      <td>...</td>\n",
       "    </tr>\n",
       "    <tr>\n",
       "      <th>12753</th>\n",
       "      <td>595346833972408320</td>\n",
       "      <td>RT @Quinnae_Moon: That's not merely because of...</td>\n",
       "      <td>randileeharper</td>\n",
       "      <td>True</td>\n",
       "      <td>19435.0</td>\n",
       "      <td>766.0</td>\n",
       "      <td>13.0</td>\n",
       "      <td>0</td>\n",
       "      <td>[]</td>\n",
       "      <td>neither</td>\n",
       "      <td>0.0</td>\n",
       "      <td>0.0</td>\n",
       "      <td>0</td>\n",
       "    </tr>\n",
       "    <tr>\n",
       "      <th>12754</th>\n",
       "      <td>596356013730598912</td>\n",
       "      <td>But this just goes to prove - @TychoBrahe only...</td>\n",
       "      <td>randileeharper</td>\n",
       "      <td>True</td>\n",
       "      <td>19435.0</td>\n",
       "      <td>766.0</td>\n",
       "      <td>12.0</td>\n",
       "      <td>16</td>\n",
       "      <td>[]</td>\n",
       "      <td>neither</td>\n",
       "      <td>0.0</td>\n",
       "      <td>0.0</td>\n",
       "      <td>0</td>\n",
       "    </tr>\n",
       "    <tr>\n",
       "      <th>12755</th>\n",
       "      <td>603639577920839681</td>\n",
       "      <td>RT @olsen31shannon: Wow I love being called a ...</td>\n",
       "      <td>ambvrrr</td>\n",
       "      <td>False</td>\n",
       "      <td>3691.0</td>\n",
       "      <td>721.0</td>\n",
       "      <td>1.0</td>\n",
       "      <td>0</td>\n",
       "      <td>[]</td>\n",
       "      <td>neither</td>\n",
       "      <td>0.0</td>\n",
       "      <td>1.0</td>\n",
       "      <td>0</td>\n",
       "    </tr>\n",
       "    <tr>\n",
       "      <th>12756</th>\n",
       "      <td>595282956970655744</td>\n",
       "      <td>RT @j_bigboote: @freebsdgirl You'd think havin...</td>\n",
       "      <td>randileeharper</td>\n",
       "      <td>True</td>\n",
       "      <td>19435.0</td>\n",
       "      <td>766.0</td>\n",
       "      <td>6.0</td>\n",
       "      <td>0</td>\n",
       "      <td>[]</td>\n",
       "      <td>neither</td>\n",
       "      <td>0.0</td>\n",
       "      <td>0.0</td>\n",
       "      <td>0</td>\n",
       "    </tr>\n",
       "    <tr>\n",
       "      <th>12757</th>\n",
       "      <td>575480549332008962</td>\n",
       "      <td>via @weaselzippers: Feminazi Blog Reminds Libe...</td>\n",
       "      <td>commonpatriot</td>\n",
       "      <td>False</td>\n",
       "      <td>15093.0</td>\n",
       "      <td>13525.0</td>\n",
       "      <td>0.0</td>\n",
       "      <td>0</td>\n",
       "      <td>[{'text': 'tcot', 'indices': [131, 136]}]</td>\n",
       "      <td>sexism</td>\n",
       "      <td>1.0</td>\n",
       "      <td>1.0</td>\n",
       "      <td>0</td>\n",
       "    </tr>\n",
       "  </tbody>\n",
       "</table>\n",
       "<p>12755 rows × 13 columns</p>\n",
       "</div>"
      ],
      "text/plain": [
       "                       id                                               text  \\\n",
       "0      572332655397629952  These girls are the equivalent of the irritati...   \n",
       "1      572341498827522049  Drasko they didn't cook half a bird you idiot ...   \n",
       "2      572340476503724032  Hopefully someone cooks Drasko in the next ep ...   \n",
       "3      572334712804384768  of course you were born in serbia...you're as ...   \n",
       "4      572342978255048705  So Drasko just said he was impressed the girls...   \n",
       "...                   ...                                                ...   \n",
       "12753  595346833972408320  RT @Quinnae_Moon: That's not merely because of...   \n",
       "12754  596356013730598912  But this just goes to prove - @TychoBrahe only...   \n",
       "12755  603639577920839681  RT @olsen31shannon: Wow I love being called a ...   \n",
       "12756  595282956970655744  RT @j_bigboote: @freebsdgirl You'd think havin...   \n",
       "12757  575480549332008962  via @weaselzippers: Feminazi Blog Reminds Libe...   \n",
       "\n",
       "                  user user_verified  user_followers_count  \\\n",
       "0          JL_Whitaker         False                2189.0   \n",
       "1            trish2295         False                  14.0   \n",
       "2            foodbling         False                3432.0   \n",
       "3      lilbeastunleash         False                 529.0   \n",
       "4         thefoxbandit         False                   7.0   \n",
       "...                ...           ...                   ...   \n",
       "12753   randileeharper          True               19435.0   \n",
       "12754   randileeharper          True               19435.0   \n",
       "12755          ambvrrr         False                3691.0   \n",
       "12756   randileeharper          True               19435.0   \n",
       "12757    commonpatriot         False               15093.0   \n",
       "\n",
       "       user_friends_count  retweet_count fav_count  \\\n",
       "0                  2186.0            0.0         2   \n",
       "1                    62.0            0.0         4   \n",
       "2                  2529.0            0.0         2   \n",
       "3                  1848.0            0.0         0   \n",
       "4                     0.0            0.0         2   \n",
       "...                   ...            ...       ...   \n",
       "12753               766.0           13.0         0   \n",
       "12754               766.0           12.0        16   \n",
       "12755               721.0            1.0         0   \n",
       "12756               766.0            6.0         0   \n",
       "12757             13525.0            0.0         0   \n",
       "\n",
       "                                        hashtags   target  snorkel_label  \\\n",
       "0         [{'text': 'MKR', 'indices': [95, 99]}]   racism            1.0   \n",
       "1         [{'text': 'mkr', 'indices': [46, 50]}]  neither            0.0   \n",
       "2         [{'text': 'MKR', 'indices': [49, 53]}]  neither            0.0   \n",
       "3         [{'text': 'MKR', 'indices': [71, 75]}]   racism            1.0   \n",
       "4        [{'text': 'MKR', 'indices': [96, 100]}]  neither            0.0   \n",
       "...                                          ...      ...            ...   \n",
       "12753                                         []  neither            0.0   \n",
       "12754                                         []  neither            0.0   \n",
       "12755                                         []  neither            0.0   \n",
       "12756                                         []  neither            0.0   \n",
       "12757  [{'text': 'tcot', 'indices': [131, 136]}]   sexism            1.0   \n",
       "\n",
       "       label  ttt  \n",
       "0        1.0    0  \n",
       "1        1.0    0  \n",
       "2        1.0    0  \n",
       "3        1.0    0  \n",
       "4        1.0    0  \n",
       "...      ...  ...  \n",
       "12753    0.0    0  \n",
       "12754    0.0    0  \n",
       "12755    1.0    0  \n",
       "12756    0.0    0  \n",
       "12757    1.0    0  \n",
       "\n",
       "[12755 rows x 13 columns]"
      ]
     },
     "execution_count": 25,
     "metadata": {},
     "output_type": "execute_result"
    }
   ],
   "source": [
    "df\n"
   ]
  },
  {
   "cell_type": "code",
   "execution_count": null,
   "metadata": {},
   "outputs": [],
   "source": []
  }
 ],
 "metadata": {
  "kernelspec": {
   "display_name": "Python 3",
   "language": "python",
   "name": "python3"
  },
  "language_info": {
   "codemirror_mode": {
    "name": "ipython",
    "version": 3
   },
   "file_extension": ".py",
   "mimetype": "text/x-python",
   "name": "python",
   "nbconvert_exporter": "python",
   "pygments_lexer": "ipython3",
   "version": "3.8.2"
  }
 },
 "nbformat": 4,
 "nbformat_minor": 4
}
