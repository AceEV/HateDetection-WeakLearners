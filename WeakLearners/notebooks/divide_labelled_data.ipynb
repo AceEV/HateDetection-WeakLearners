{
 "cells": [
  {
   "cell_type": "code",
   "execution_count": 1,
   "metadata": {},
   "outputs": [],
   "source": [
    "import pandas as pd\n",
    "from sklearn.model_selection import train_test_split"
   ]
  },
  {
   "cell_type": "code",
   "execution_count": 2,
   "metadata": {},
   "outputs": [],
   "source": [
    "df = pd.read_csv('../data/training_data_snorkel_label1.csv')"
   ]
  },
  {
   "cell_type": "code",
   "execution_count": 3,
   "metadata": {},
   "outputs": [
    {
     "data": {
      "text/html": [
       "<div>\n",
       "<style scoped>\n",
       "    .dataframe tbody tr th:only-of-type {\n",
       "        vertical-align: middle;\n",
       "    }\n",
       "\n",
       "    .dataframe tbody tr th {\n",
       "        vertical-align: top;\n",
       "    }\n",
       "\n",
       "    .dataframe thead th {\n",
       "        text-align: right;\n",
       "    }\n",
       "</style>\n",
       "<table border=\"1\" class=\"dataframe\">\n",
       "  <thead>\n",
       "    <tr style=\"text-align: right;\">\n",
       "      <th></th>\n",
       "      <th>id</th>\n",
       "      <th>text</th>\n",
       "      <th>user</th>\n",
       "      <th>user_verified</th>\n",
       "      <th>user_followers_count</th>\n",
       "      <th>user_friends_count</th>\n",
       "      <th>retweet_count</th>\n",
       "      <th>fav_count</th>\n",
       "      <th>hashtags</th>\n",
       "      <th>target</th>\n",
       "      <th>label</th>\n",
       "      <th>snorkel_label</th>\n",
       "      <th>snorkel_prob</th>\n",
       "    </tr>\n",
       "  </thead>\n",
       "  <tbody>\n",
       "    <tr>\n",
       "      <th>0</th>\n",
       "      <td>572332655397629952</td>\n",
       "      <td>These girls are the equivalent of the irritati...</td>\n",
       "      <td>JL_Whitaker</td>\n",
       "      <td>False</td>\n",
       "      <td>2189.0</td>\n",
       "      <td>2186.0</td>\n",
       "      <td>0.0</td>\n",
       "      <td>2</td>\n",
       "      <td>[{'text': 'MKR', 'indices': [95, 99]}]</td>\n",
       "      <td>racism</td>\n",
       "      <td>1.0</td>\n",
       "      <td>1.0</td>\n",
       "      <td>0.549079</td>\n",
       "    </tr>\n",
       "    <tr>\n",
       "      <th>1</th>\n",
       "      <td>572341498827522049</td>\n",
       "      <td>Drasko they didn't cook half a bird you idiot ...</td>\n",
       "      <td>trish2295</td>\n",
       "      <td>False</td>\n",
       "      <td>14.0</td>\n",
       "      <td>62.0</td>\n",
       "      <td>0.0</td>\n",
       "      <td>4</td>\n",
       "      <td>[{'text': 'mkr', 'indices': [46, 50]}]</td>\n",
       "      <td>neither</td>\n",
       "      <td>0.0</td>\n",
       "      <td>1.0</td>\n",
       "      <td>0.897941</td>\n",
       "    </tr>\n",
       "    <tr>\n",
       "      <th>2</th>\n",
       "      <td>572340476503724032</td>\n",
       "      <td>Hopefully someone cooks Drasko in the next ep ...</td>\n",
       "      <td>foodbling</td>\n",
       "      <td>False</td>\n",
       "      <td>3432.0</td>\n",
       "      <td>2529.0</td>\n",
       "      <td>0.0</td>\n",
       "      <td>2</td>\n",
       "      <td>[{'text': 'MKR', 'indices': [49, 53]}]</td>\n",
       "      <td>neither</td>\n",
       "      <td>0.0</td>\n",
       "      <td>1.0</td>\n",
       "      <td>0.549079</td>\n",
       "    </tr>\n",
       "    <tr>\n",
       "      <th>3</th>\n",
       "      <td>572334712804384768</td>\n",
       "      <td>of course you were born in serbia...you're as ...</td>\n",
       "      <td>lilbeastunleash</td>\n",
       "      <td>False</td>\n",
       "      <td>529.0</td>\n",
       "      <td>1848.0</td>\n",
       "      <td>0.0</td>\n",
       "      <td>0</td>\n",
       "      <td>[{'text': 'MKR', 'indices': [71, 75]}]</td>\n",
       "      <td>racism</td>\n",
       "      <td>1.0</td>\n",
       "      <td>1.0</td>\n",
       "      <td>0.549079</td>\n",
       "    </tr>\n",
       "    <tr>\n",
       "      <th>4</th>\n",
       "      <td>572342978255048705</td>\n",
       "      <td>So Drasko just said he was impressed the girls...</td>\n",
       "      <td>thefoxbandit</td>\n",
       "      <td>False</td>\n",
       "      <td>7.0</td>\n",
       "      <td>0.0</td>\n",
       "      <td>0.0</td>\n",
       "      <td>2</td>\n",
       "      <td>[{'text': 'MKR', 'indices': [96, 100]}]</td>\n",
       "      <td>neither</td>\n",
       "      <td>0.0</td>\n",
       "      <td>1.0</td>\n",
       "      <td>0.597545</td>\n",
       "    </tr>\n",
       "  </tbody>\n",
       "</table>\n",
       "</div>"
      ],
      "text/plain": [
       "                   id                                               text  \\\n",
       "0  572332655397629952  These girls are the equivalent of the irritati...   \n",
       "1  572341498827522049  Drasko they didn't cook half a bird you idiot ...   \n",
       "2  572340476503724032  Hopefully someone cooks Drasko in the next ep ...   \n",
       "3  572334712804384768  of course you were born in serbia...you're as ...   \n",
       "4  572342978255048705  So Drasko just said he was impressed the girls...   \n",
       "\n",
       "              user user_verified  user_followers_count  user_friends_count  \\\n",
       "0      JL_Whitaker         False                2189.0              2186.0   \n",
       "1        trish2295         False                  14.0                62.0   \n",
       "2        foodbling         False                3432.0              2529.0   \n",
       "3  lilbeastunleash         False                 529.0              1848.0   \n",
       "4     thefoxbandit         False                   7.0                 0.0   \n",
       "\n",
       "   retweet_count fav_count                                 hashtags   target  \\\n",
       "0            0.0         2   [{'text': 'MKR', 'indices': [95, 99]}]   racism   \n",
       "1            0.0         4   [{'text': 'mkr', 'indices': [46, 50]}]  neither   \n",
       "2            0.0         2   [{'text': 'MKR', 'indices': [49, 53]}]  neither   \n",
       "3            0.0         0   [{'text': 'MKR', 'indices': [71, 75]}]   racism   \n",
       "4            0.0         2  [{'text': 'MKR', 'indices': [96, 100]}]  neither   \n",
       "\n",
       "   label  snorkel_label  snorkel_prob  \n",
       "0    1.0            1.0      0.549079  \n",
       "1    0.0            1.0      0.897941  \n",
       "2    0.0            1.0      0.549079  \n",
       "3    1.0            1.0      0.549079  \n",
       "4    0.0            1.0      0.597545  "
      ]
     },
     "execution_count": 3,
     "metadata": {},
     "output_type": "execute_result"
    }
   ],
   "source": [
    "df.head()"
   ]
  },
  {
   "cell_type": "code",
   "execution_count": 4,
   "metadata": {},
   "outputs": [],
   "source": [
    "df.dropna(inplace=True)"
   ]
  },
  {
   "cell_type": "code",
   "execution_count": 5,
   "metadata": {},
   "outputs": [
    {
     "name": "stdout",
     "output_type": "stream",
     "text": [
      "<class 'pandas.core.frame.DataFrame'>\n",
      "Int64Index: 12755 entries, 0 to 12757\n",
      "Data columns (total 13 columns):\n",
      " #   Column                Non-Null Count  Dtype  \n",
      "---  ------                --------------  -----  \n",
      " 0   id                    12755 non-null  object \n",
      " 1   text                  12755 non-null  object \n",
      " 2   user                  12755 non-null  object \n",
      " 3   user_verified         12755 non-null  object \n",
      " 4   user_followers_count  12755 non-null  float64\n",
      " 5   user_friends_count    12755 non-null  float64\n",
      " 6   retweet_count         12755 non-null  float64\n",
      " 7   fav_count             12755 non-null  object \n",
      " 8   hashtags              12755 non-null  object \n",
      " 9   target                12755 non-null  object \n",
      " 10  label                 12755 non-null  float64\n",
      " 11  snorkel_label         12755 non-null  float64\n",
      " 12  snorkel_prob          12755 non-null  float64\n",
      "dtypes: float64(6), object(7)\n",
      "memory usage: 1.4+ MB\n"
     ]
    }
   ],
   "source": [
    "df.info()"
   ]
  },
  {
   "cell_type": "code",
   "execution_count": 6,
   "metadata": {},
   "outputs": [],
   "source": [
    "weak_df, labelled_df = train_test_split(df, test_size=0.33, random_state=42, stratify=df['label'])"
   ]
  },
  {
   "cell_type": "code",
   "execution_count": 7,
   "metadata": {},
   "outputs": [
    {
     "name": "stdout",
     "output_type": "stream",
     "text": [
      "<class 'pandas.core.frame.DataFrame'>\n",
      "Int64Index: 4210 entries, 3434 to 148\n",
      "Data columns (total 13 columns):\n",
      " #   Column                Non-Null Count  Dtype  \n",
      "---  ------                --------------  -----  \n",
      " 0   id                    4210 non-null   object \n",
      " 1   text                  4210 non-null   object \n",
      " 2   user                  4210 non-null   object \n",
      " 3   user_verified         4210 non-null   object \n",
      " 4   user_followers_count  4210 non-null   float64\n",
      " 5   user_friends_count    4210 non-null   float64\n",
      " 6   retweet_count         4210 non-null   float64\n",
      " 7   fav_count             4210 non-null   object \n",
      " 8   hashtags              4210 non-null   object \n",
      " 9   target                4210 non-null   object \n",
      " 10  label                 4210 non-null   float64\n",
      " 11  snorkel_label         4210 non-null   float64\n",
      " 12  snorkel_prob          4210 non-null   float64\n",
      "dtypes: float64(6), object(7)\n",
      "memory usage: 460.5+ KB\n"
     ]
    }
   ],
   "source": [
    "labelled_df.info()"
   ]
  },
  {
   "cell_type": "code",
   "execution_count": 8,
   "metadata": {},
   "outputs": [],
   "source": [
    "weak_df.to_csv('../data/weak_data.csv', index=False)\n",
    "labelled_df.to_csv('../data/labelled_data.csv', index=False)"
   ]
  },
  {
   "cell_type": "code",
   "execution_count": null,
   "metadata": {},
   "outputs": [],
   "source": []
  },
  {
   "cell_type": "code",
   "execution_count": 9,
   "metadata": {},
   "outputs": [
    {
     "data": {
      "text/plain": [
       "array([[2.1860e+03, 2.1890e+03],\n",
       "       [6.2000e+01, 1.4000e+01],\n",
       "       [2.5290e+03, 3.4320e+03],\n",
       "       ...,\n",
       "       [7.2100e+02, 3.6910e+03],\n",
       "       [7.6600e+02, 1.9435e+04],\n",
       "       [1.3525e+04, 1.5093e+04]])"
      ]
     },
     "execution_count": 9,
     "metadata": {},
     "output_type": "execute_result"
    }
   ],
   "source": [
    "df[['user_friends_count', 'user_followers_count']].values"
   ]
  },
  {
   "cell_type": "code",
   "execution_count": 10,
   "metadata": {},
   "outputs": [
    {
     "data": {
      "text/plain": [
       "Index(['id', 'text', 'user', 'user_verified', 'user_followers_count',\n",
       "       'user_friends_count', 'retweet_count', 'fav_count', 'hashtags',\n",
       "       'target', 'label', 'snorkel_label', 'snorkel_prob'],\n",
       "      dtype='object')"
      ]
     },
     "execution_count": 10,
     "metadata": {},
     "output_type": "execute_result"
    }
   ],
   "source": [
    "df.columns"
   ]
  },
  {
   "cell_type": "code",
   "execution_count": null,
   "metadata": {},
   "outputs": [],
   "source": []
  }
 ],
 "metadata": {
  "kernelspec": {
   "display_name": "Python 3",
   "language": "python",
   "name": "python3"
  },
  "language_info": {
   "codemirror_mode": {
    "name": "ipython",
    "version": 3
   },
   "file_extension": ".py",
   "mimetype": "text/x-python",
   "name": "python",
   "nbconvert_exporter": "python",
   "pygments_lexer": "ipython3",
   "version": "3.8.2"
  }
 },
 "nbformat": 4,
 "nbformat_minor": 4
}
