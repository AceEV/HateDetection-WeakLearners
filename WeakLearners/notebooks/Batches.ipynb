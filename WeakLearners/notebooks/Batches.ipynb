{
 "cells": [
  {
   "cell_type": "code",
   "execution_count": 1,
   "metadata": {},
   "outputs": [],
   "source": [
    "import pandas as pd\n",
    "import numpy as np\n",
    "import json"
   ]
  },
  {
   "cell_type": "code",
   "execution_count": 2,
   "metadata": {},
   "outputs": [],
   "source": [
    "# ! pip3 install transformers"
   ]
  },
  {
   "cell_type": "code",
   "execution_count": 3,
   "metadata": {},
   "outputs": [],
   "source": [
    "# ! pip install ipywidgets"
   ]
  },
  {
   "cell_type": "code",
   "execution_count": 2,
   "metadata": {},
   "outputs": [
    {
     "name": "stderr",
     "output_type": "stream",
     "text": [
      "d:\\installed\\python\\python38\\lib\\site-packages\\tensorboard\\compat\\tensorflow_stub\\dtypes.py:541: FutureWarning: Passing (type, 1) or '1type' as a synonym of type is deprecated; in a future version of numpy, it will be understood as (type, (1,)) / '(1,)type'.\n",
      "  _np_qint8 = np.dtype([(\"qint8\", np.int8, 1)])\n",
      "d:\\installed\\python\\python38\\lib\\site-packages\\tensorboard\\compat\\tensorflow_stub\\dtypes.py:542: FutureWarning: Passing (type, 1) or '1type' as a synonym of type is deprecated; in a future version of numpy, it will be understood as (type, (1,)) / '(1,)type'.\n",
      "  _np_quint8 = np.dtype([(\"quint8\", np.uint8, 1)])\n",
      "d:\\installed\\python\\python38\\lib\\site-packages\\tensorboard\\compat\\tensorflow_stub\\dtypes.py:543: FutureWarning: Passing (type, 1) or '1type' as a synonym of type is deprecated; in a future version of numpy, it will be understood as (type, (1,)) / '(1,)type'.\n",
      "  _np_qint16 = np.dtype([(\"qint16\", np.int16, 1)])\n",
      "d:\\installed\\python\\python38\\lib\\site-packages\\tensorboard\\compat\\tensorflow_stub\\dtypes.py:544: FutureWarning: Passing (type, 1) or '1type' as a synonym of type is deprecated; in a future version of numpy, it will be understood as (type, (1,)) / '(1,)type'.\n",
      "  _np_quint16 = np.dtype([(\"quint16\", np.uint16, 1)])\n",
      "d:\\installed\\python\\python38\\lib\\site-packages\\tensorboard\\compat\\tensorflow_stub\\dtypes.py:545: FutureWarning: Passing (type, 1) or '1type' as a synonym of type is deprecated; in a future version of numpy, it will be understood as (type, (1,)) / '(1,)type'.\n",
      "  _np_qint32 = np.dtype([(\"qint32\", np.int32, 1)])\n",
      "d:\\installed\\python\\python38\\lib\\site-packages\\tensorboard\\compat\\tensorflow_stub\\dtypes.py:550: FutureWarning: Passing (type, 1) or '1type' as a synonym of type is deprecated; in a future version of numpy, it will be understood as (type, (1,)) / '(1,)type'.\n",
      "  np_resource = np.dtype([(\"resource\", np.ubyte, 1)])\n"
     ]
    }
   ],
   "source": [
    "from transformers import BertTokenizer"
   ]
  },
  {
   "cell_type": "code",
   "execution_count": 3,
   "metadata": {},
   "outputs": [],
   "source": [
    "tokenizer = BertTokenizer.from_pretrained('bert-base-uncased')"
   ]
  },
  {
   "cell_type": "code",
   "execution_count": 4,
   "metadata": {},
   "outputs": [],
   "source": [
    "df = pd.read_csv(\"../data/training_data.csv\", usecols=['id', 'text', 'user', 'user_verified',\n",
    "       'user_followers_count', 'user_friends_count', 'retweet_count',\n",
    "       'fav_count', 'hashtags', 'target'])"
   ]
  },
  {
   "cell_type": "code",
   "execution_count": 5,
   "metadata": {},
   "outputs": [
    {
     "name": "stdout",
     "output_type": "stream",
     "text": [
      "<class 'pandas.core.frame.DataFrame'>\n",
      "RangeIndex: 12756 entries, 0 to 12755\n",
      "Data columns (total 10 columns):\n",
      " #   Column                Non-Null Count  Dtype \n",
      "---  ------                --------------  ----- \n",
      " 0   id                    12756 non-null  int64 \n",
      " 1   text                  12756 non-null  object\n",
      " 2   user                  12756 non-null  object\n",
      " 3   user_verified         12756 non-null  bool  \n",
      " 4   user_followers_count  12756 non-null  int64 \n",
      " 5   user_friends_count    12756 non-null  int64 \n",
      " 6   retweet_count         12756 non-null  int64 \n",
      " 7   fav_count             12756 non-null  int64 \n",
      " 8   hashtags              12756 non-null  object\n",
      " 9   target                12756 non-null  object\n",
      "dtypes: bool(1), int64(5), object(4)\n",
      "memory usage: 909.5+ KB\n"
     ]
    }
   ],
   "source": [
    "df.info()"
   ]
  },
  {
   "cell_type": "code",
   "execution_count": 6,
   "metadata": {},
   "outputs": [
    {
     "data": {
      "text/html": [
       "<div>\n",
       "<style scoped>\n",
       "    .dataframe tbody tr th:only-of-type {\n",
       "        vertical-align: middle;\n",
       "    }\n",
       "\n",
       "    .dataframe tbody tr th {\n",
       "        vertical-align: top;\n",
       "    }\n",
       "\n",
       "    .dataframe thead th {\n",
       "        text-align: right;\n",
       "    }\n",
       "</style>\n",
       "<table border=\"1\" class=\"dataframe\">\n",
       "  <thead>\n",
       "    <tr style=\"text-align: right;\">\n",
       "      <th></th>\n",
       "      <th>id</th>\n",
       "      <th>text</th>\n",
       "      <th>user</th>\n",
       "      <th>user_verified</th>\n",
       "      <th>user_followers_count</th>\n",
       "      <th>user_friends_count</th>\n",
       "      <th>retweet_count</th>\n",
       "      <th>fav_count</th>\n",
       "      <th>hashtags</th>\n",
       "      <th>target</th>\n",
       "    </tr>\n",
       "  </thead>\n",
       "  <tbody>\n",
       "    <tr>\n",
       "      <th>0</th>\n",
       "      <td>572332655397629952</td>\n",
       "      <td>These girls are the equivalent of the irritati...</td>\n",
       "      <td>JL_Whitaker</td>\n",
       "      <td>False</td>\n",
       "      <td>2189</td>\n",
       "      <td>2186</td>\n",
       "      <td>0</td>\n",
       "      <td>2</td>\n",
       "      <td>[{'text': 'MKR', 'indices': [95, 99]}]</td>\n",
       "      <td>4    racism\\nName: types, dtype: object</td>\n",
       "    </tr>\n",
       "    <tr>\n",
       "      <th>1</th>\n",
       "      <td>572341498827522049</td>\n",
       "      <td>Drasko they didn't cook half a bird you idiot ...</td>\n",
       "      <td>trish2295</td>\n",
       "      <td>False</td>\n",
       "      <td>14</td>\n",
       "      <td>62</td>\n",
       "      <td>0</td>\n",
       "      <td>4</td>\n",
       "      <td>[{'text': 'mkr', 'indices': [46, 50]}]</td>\n",
       "      <td>607    neither\\nName: Expert, dtype: object</td>\n",
       "    </tr>\n",
       "    <tr>\n",
       "      <th>2</th>\n",
       "      <td>572340476503724032</td>\n",
       "      <td>Hopefully someone cooks Drasko in the next ep ...</td>\n",
       "      <td>foodbling</td>\n",
       "      <td>False</td>\n",
       "      <td>3432</td>\n",
       "      <td>2529</td>\n",
       "      <td>0</td>\n",
       "      <td>2</td>\n",
       "      <td>[{'text': 'MKR', 'indices': [49, 53]}]</td>\n",
       "      <td>6035    neither\\nName: Expert, dtype: object</td>\n",
       "    </tr>\n",
       "    <tr>\n",
       "      <th>3</th>\n",
       "      <td>572334712804384768</td>\n",
       "      <td>of course you were born in serbia...you're as ...</td>\n",
       "      <td>lilbeastunleash</td>\n",
       "      <td>False</td>\n",
       "      <td>529</td>\n",
       "      <td>1848</td>\n",
       "      <td>0</td>\n",
       "      <td>0</td>\n",
       "      <td>[{'text': 'MKR', 'indices': [71, 75]}]</td>\n",
       "      <td>3    racism\\nName: types, dtype: object</td>\n",
       "    </tr>\n",
       "    <tr>\n",
       "      <th>4</th>\n",
       "      <td>572342978255048705</td>\n",
       "      <td>So Drasko just said he was impressed the girls...</td>\n",
       "      <td>thefoxbandit</td>\n",
       "      <td>False</td>\n",
       "      <td>7</td>\n",
       "      <td>0</td>\n",
       "      <td>0</td>\n",
       "      <td>2</td>\n",
       "      <td>[{'text': 'MKR', 'indices': [96, 100]}]</td>\n",
       "      <td>429    neither\\nName: Expert, dtype: object</td>\n",
       "    </tr>\n",
       "  </tbody>\n",
       "</table>\n",
       "</div>"
      ],
      "text/plain": [
       "                   id                                               text  \\\n",
       "0  572332655397629952  These girls are the equivalent of the irritati...   \n",
       "1  572341498827522049  Drasko they didn't cook half a bird you idiot ...   \n",
       "2  572340476503724032  Hopefully someone cooks Drasko in the next ep ...   \n",
       "3  572334712804384768  of course you were born in serbia...you're as ...   \n",
       "4  572342978255048705  So Drasko just said he was impressed the girls...   \n",
       "\n",
       "              user  user_verified  user_followers_count  user_friends_count  \\\n",
       "0      JL_Whitaker          False                  2189                2186   \n",
       "1        trish2295          False                    14                  62   \n",
       "2        foodbling          False                  3432                2529   \n",
       "3  lilbeastunleash          False                   529                1848   \n",
       "4     thefoxbandit          False                     7                   0   \n",
       "\n",
       "   retweet_count  fav_count                                 hashtags  \\\n",
       "0              0          2   [{'text': 'MKR', 'indices': [95, 99]}]   \n",
       "1              0          4   [{'text': 'mkr', 'indices': [46, 50]}]   \n",
       "2              0          2   [{'text': 'MKR', 'indices': [49, 53]}]   \n",
       "3              0          0   [{'text': 'MKR', 'indices': [71, 75]}]   \n",
       "4              0          2  [{'text': 'MKR', 'indices': [96, 100]}]   \n",
       "\n",
       "                                         target  \n",
       "0       4    racism\\nName: types, dtype: object  \n",
       "1   607    neither\\nName: Expert, dtype: object  \n",
       "2  6035    neither\\nName: Expert, dtype: object  \n",
       "3       3    racism\\nName: types, dtype: object  \n",
       "4   429    neither\\nName: Expert, dtype: object  "
      ]
     },
     "execution_count": 6,
     "metadata": {},
     "output_type": "execute_result"
    }
   ],
   "source": [
    "df.head()"
   ]
  },
  {
   "cell_type": "code",
   "execution_count": 7,
   "metadata": {},
   "outputs": [],
   "source": [
    "targets = ['racism', 'sexism', 'neither']"
   ]
  },
  {
   "cell_type": "code",
   "execution_count": 8,
   "metadata": {},
   "outputs": [],
   "source": [
    "df['processed_target'] = df.target.apply(lambda x: x.split()[1])"
   ]
  },
  {
   "cell_type": "code",
   "execution_count": 9,
   "metadata": {},
   "outputs": [],
   "source": [
    "df['processed_target'] = df.processed_target.apply(lambda x: 'neither' if x == 'none' else x)"
   ]
  },
  {
   "cell_type": "code",
   "execution_count": 10,
   "metadata": {},
   "outputs": [],
   "source": [
    "df = df[df['processed_target'].isin(targets)]"
   ]
  },
  {
   "cell_type": "code",
   "execution_count": 11,
   "metadata": {},
   "outputs": [
    {
     "data": {
      "text/plain": [
       "neither    9444\n",
       "sexism     3220\n",
       "racism       67\n",
       "Name: processed_target, dtype: int64"
      ]
     },
     "execution_count": 11,
     "metadata": {},
     "output_type": "execute_result"
    }
   ],
   "source": [
    "df['processed_target'].value_counts()"
   ]
  },
  {
   "cell_type": "code",
   "execution_count": 12,
   "metadata": {},
   "outputs": [],
   "source": [
    "label_map = {\n",
    "    \"racism\": 0,\n",
    "    \"sexism\": 1,\n",
    "    \"neither\": 2\n",
    "}"
   ]
  },
  {
   "cell_type": "code",
   "execution_count": 13,
   "metadata": {},
   "outputs": [],
   "source": [
    "reverse_label_map = {\n",
    "    0: \"racism\",\n",
    "    1: \"sexism\", \n",
    "    2: \"neither\"\n",
    "}"
   ]
  },
  {
   "cell_type": "code",
   "execution_count": 14,
   "metadata": {},
   "outputs": [],
   "source": [
    "df['labels'] = df.processed_target.apply(lambda x: label_map[x])"
   ]
  },
  {
   "cell_type": "code",
   "execution_count": 15,
   "metadata": {},
   "outputs": [
    {
     "data": {
      "text/plain": [
       "0        0\n",
       "1        2\n",
       "2        2\n",
       "3        0\n",
       "4        2\n",
       "        ..\n",
       "12751    2\n",
       "12752    2\n",
       "12753    2\n",
       "12754    2\n",
       "12755    1\n",
       "Name: labels, Length: 12731, dtype: int64"
      ]
     },
     "execution_count": 15,
     "metadata": {},
     "output_type": "execute_result"
    }
   ],
   "source": [
    "df['labels']"
   ]
  },
  {
   "cell_type": "code",
   "execution_count": 16,
   "metadata": {},
   "outputs": [],
   "source": [
    "vocab = set()\n",
    "\n",
    "def process_text(text):\n",
    "    text = text.lower()\n",
    "    tokens = tokenizer.tokenize(text)\n",
    "    vocab.update(set(tokens))\n",
    "    return tokens"
   ]
  },
  {
   "cell_type": "code",
   "execution_count": 17,
   "metadata": {},
   "outputs": [
    {
     "data": {
      "text/plain": [
       "['this', 'is', 'a', 'sample', 'texts', '##s']"
      ]
     },
     "execution_count": 17,
     "metadata": {},
     "output_type": "execute_result"
    }
   ],
   "source": [
    "process_text(\"this is a sample textss\")"
   ]
  },
  {
   "cell_type": "code",
   "execution_count": 18,
   "metadata": {},
   "outputs": [
    {
     "data": {
      "text/plain": [
       "{'##s', 'a', 'is', 'sample', 'texts', 'this'}"
      ]
     },
     "execution_count": 18,
     "metadata": {},
     "output_type": "execute_result"
    }
   ],
   "source": [
    "vocab"
   ]
  },
  {
   "cell_type": "code",
   "execution_count": null,
   "metadata": {},
   "outputs": [],
   "source": []
  },
  {
   "cell_type": "code",
   "execution_count": 19,
   "metadata": {},
   "outputs": [],
   "source": [
    "df['processed_text'] = df.text.apply(process_text)"
   ]
  },
  {
   "cell_type": "code",
   "execution_count": 20,
   "metadata": {},
   "outputs": [
    {
     "data": {
      "text/plain": [
       "0        [these, girls, are, the, equivalent, of, the, ...\n",
       "1        [dr, ##ask, ##o, they, didn, ', t, cook, half,...\n",
       "2        [hopefully, someone, cooks, dr, ##ask, ##o, in...\n",
       "3        [of, course, you, were, born, in, serbia, ., ....\n",
       "4        [so, dr, ##ask, ##o, just, said, he, was, impr...\n",
       "                               ...                        \n",
       "12751    [rt, @, quinn, ##ae, _, moon, :, that, ', s, n...\n",
       "12752    [but, this, just, goes, to, prove, -, @, ty, #...\n",
       "12753    [rt, @, olsen, ##31, ##shan, ##non, :, wow, i,...\n",
       "12754    [rt, @, j, _, big, ##boot, ##e, :, @, free, ##...\n",
       "12755    [via, @, weasel, ##zi, ##pper, ##s, :, fe, ##m...\n",
       "Name: processed_text, Length: 12731, dtype: object"
      ]
     },
     "execution_count": 20,
     "metadata": {},
     "output_type": "execute_result"
    }
   ],
   "source": [
    "df['processed_text']"
   ]
  },
  {
   "cell_type": "code",
   "execution_count": 37,
   "metadata": {},
   "outputs": [],
   "source": [
    "with open('../data/text.json', 'w') as f:\n",
    "    json.dump(df['text'].tolist(), f, indent=2)"
   ]
  },
  {
   "cell_type": "code",
   "execution_count": null,
   "metadata": {},
   "outputs": [],
   "source": []
  }
 ],
 "metadata": {
  "kernelspec": {
   "display_name": "Python 3",
   "language": "python",
   "name": "python3"
  },
  "language_info": {
   "codemirror_mode": {
    "name": "ipython",
    "version": 3
   },
   "file_extension": ".py",
   "mimetype": "text/x-python",
   "name": "python",
   "nbconvert_exporter": "python",
   "pygments_lexer": "ipython3",
   "version": "3.8.6"
  }
 },
 "nbformat": 4,
 "nbformat_minor": 4
}
